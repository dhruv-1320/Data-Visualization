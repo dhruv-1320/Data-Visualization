{
 "cells": [
  {
   "cell_type": "code",
   "execution_count": 1,
   "id": "cf6dfd9e",
   "metadata": {},
   "outputs": [],
   "source": [
    "import numpy as np\n",
    "import pandas as pd\n",
    "\n",
    "\n",
    "df = pd.read_csv(r\"C:\\Users\\katha\\OneDrive\\Documents\\EDA\\train_LZdllcl.csv\")"
   ]
  },
  {
   "cell_type": "code",
   "execution_count": 2,
   "id": "89bdc483",
   "metadata": {},
   "outputs": [
    {
     "name": "stdout",
     "output_type": "stream",
     "text": [
      "<class 'pandas.core.frame.DataFrame'>\n",
      "RangeIndex: 54808 entries, 0 to 54807\n",
      "Data columns (total 14 columns):\n",
      " #   Column                Non-Null Count  Dtype  \n",
      "---  ------                --------------  -----  \n",
      " 0   employee_id           54808 non-null  int64  \n",
      " 1   department            54808 non-null  object \n",
      " 2   region                54808 non-null  object \n",
      " 3   education             52399 non-null  object \n",
      " 4   gender                54808 non-null  object \n",
      " 5   recruitment_channel   54808 non-null  object \n",
      " 6   no_of_trainings       54808 non-null  int64  \n",
      " 7   age                   54808 non-null  int64  \n",
      " 8   previous_year_rating  50684 non-null  float64\n",
      " 9   length_of_service     54808 non-null  int64  \n",
      " 10  KPIs_met >80%         54808 non-null  int64  \n",
      " 11  awards_won?           54808 non-null  int64  \n",
      " 12  avg_training_score    54808 non-null  int64  \n",
      " 13  is_promoted           54808 non-null  int64  \n",
      "dtypes: float64(1), int64(8), object(5)\n",
      "memory usage: 5.9+ MB\n"
     ]
    }
   ],
   "source": [
    "df.info()"
   ]
  },
  {
   "cell_type": "code",
   "execution_count": 3,
   "id": "4d210ed8",
   "metadata": {},
   "outputs": [],
   "source": [
    "df.drop('employee_id', axis=1 ,inplace = True)"
   ]
  },
  {
   "cell_type": "code",
   "execution_count": 4,
   "id": "fd822a0a",
   "metadata": {},
   "outputs": [],
   "source": [
    "df.drop('region', axis=1 ,inplace = True)"
   ]
  },
  {
   "cell_type": "code",
   "execution_count": 5,
   "id": "53318f9d",
   "metadata": {},
   "outputs": [],
   "source": [
    "df.drop('recruitment_channel', axis=1 ,inplace = True)"
   ]
  },
  {
   "cell_type": "code",
   "execution_count": 6,
   "id": "0f6b86a3",
   "metadata": {},
   "outputs": [
    {
     "data": {
      "text/plain": [
       "Index(['department', 'education', 'gender', 'no_of_trainings', 'age',\n",
       "       'previous_year_rating', 'length_of_service', 'KPIs_met >80%',\n",
       "       'awards_won?', 'avg_training_score', 'is_promoted'],\n",
       "      dtype='object')"
      ]
     },
     "execution_count": 6,
     "metadata": {},
     "output_type": "execute_result"
    }
   ],
   "source": [
    "df.keys()"
   ]
  },
  {
   "cell_type": "code",
   "execution_count": 7,
   "id": "73b23998",
   "metadata": {},
   "outputs": [
    {
     "data": {
      "text/plain": [
       "department                 0\n",
       "education               2409\n",
       "gender                     0\n",
       "no_of_trainings            0\n",
       "age                        0\n",
       "previous_year_rating    4124\n",
       "length_of_service          0\n",
       "KPIs_met >80%              0\n",
       "awards_won?                0\n",
       "avg_training_score         0\n",
       "is_promoted                0\n",
       "dtype: int64"
      ]
     },
     "execution_count": 7,
     "metadata": {},
     "output_type": "execute_result"
    }
   ],
   "source": [
    "df.isnull().sum()"
   ]
  },
  {
   "cell_type": "code",
   "execution_count": 8,
   "id": "56c9b7a4",
   "metadata": {},
   "outputs": [],
   "source": [
    "df = df.dropna()"
   ]
  },
  {
   "cell_type": "code",
   "execution_count": 9,
   "id": "6356313a",
   "metadata": {},
   "outputs": [
    {
     "name": "stdout",
     "output_type": "stream",
     "text": [
      "<class 'pandas.core.frame.DataFrame'>\n",
      "Int64Index: 48660 entries, 0 to 54807\n",
      "Data columns (total 11 columns):\n",
      " #   Column                Non-Null Count  Dtype  \n",
      "---  ------                --------------  -----  \n",
      " 0   department            48660 non-null  object \n",
      " 1   education             48660 non-null  object \n",
      " 2   gender                48660 non-null  object \n",
      " 3   no_of_trainings       48660 non-null  int64  \n",
      " 4   age                   48660 non-null  int64  \n",
      " 5   previous_year_rating  48660 non-null  float64\n",
      " 6   length_of_service     48660 non-null  int64  \n",
      " 7   KPIs_met >80%         48660 non-null  int64  \n",
      " 8   awards_won?           48660 non-null  int64  \n",
      " 9   avg_training_score    48660 non-null  int64  \n",
      " 10  is_promoted           48660 non-null  int64  \n",
      "dtypes: float64(1), int64(7), object(3)\n",
      "memory usage: 4.5+ MB\n"
     ]
    }
   ],
   "source": [
    "df.info()"
   ]
  },
  {
   "cell_type": "code",
   "execution_count": 10,
   "id": "85c0d892",
   "metadata": {},
   "outputs": [],
   "source": [
    "df['age'] = pd.to_numeric(df['age'])  # 'coerce' will convert non-numeric values to NaN"
   ]
  },
  {
   "cell_type": "code",
   "execution_count": 23,
   "id": "6154d627",
   "metadata": {},
   "outputs": [
    {
     "data": {
      "text/html": [
       "<div>\n",
       "<style scoped>\n",
       "    .dataframe tbody tr th:only-of-type {\n",
       "        vertical-align: middle;\n",
       "    }\n",
       "\n",
       "    .dataframe tbody tr th {\n",
       "        vertical-align: top;\n",
       "    }\n",
       "\n",
       "    .dataframe thead th {\n",
       "        text-align: right;\n",
       "    }\n",
       "</style>\n",
       "<table border=\"1\" class=\"dataframe\">\n",
       "  <thead>\n",
       "    <tr style=\"text-align: right;\">\n",
       "      <th></th>\n",
       "      <th>department</th>\n",
       "      <th>education</th>\n",
       "      <th>gender</th>\n",
       "      <th>no_of_trainings</th>\n",
       "      <th>age</th>\n",
       "      <th>previous_year_rating</th>\n",
       "      <th>length_of_service</th>\n",
       "      <th>KPIs_met &gt;80%</th>\n",
       "      <th>awards_won?</th>\n",
       "      <th>avg_training_score</th>\n",
       "      <th>is_promoted</th>\n",
       "      <th>age_catagory</th>\n",
       "      <th>avg_training_score_catagory</th>\n",
       "      <th>length_of_service_catagory</th>\n",
       "    </tr>\n",
       "  </thead>\n",
       "  <tbody>\n",
       "    <tr>\n",
       "      <th>54802</th>\n",
       "      <td>Sales &amp; Marketing</td>\n",
       "      <td>Bachelor's</td>\n",
       "      <td>m</td>\n",
       "      <td>2</td>\n",
       "      <td>31</td>\n",
       "      <td>1</td>\n",
       "      <td>2</td>\n",
       "      <td>0</td>\n",
       "      <td>0</td>\n",
       "      <td>49</td>\n",
       "      <td>0</td>\n",
       "      <td>2</td>\n",
       "      <td>1</td>\n",
       "      <td>1</td>\n",
       "    </tr>\n",
       "    <tr>\n",
       "      <th>54803</th>\n",
       "      <td>Technology</td>\n",
       "      <td>Bachelor's</td>\n",
       "      <td>m</td>\n",
       "      <td>1</td>\n",
       "      <td>48</td>\n",
       "      <td>3</td>\n",
       "      <td>17</td>\n",
       "      <td>0</td>\n",
       "      <td>0</td>\n",
       "      <td>78</td>\n",
       "      <td>0</td>\n",
       "      <td>4</td>\n",
       "      <td>3</td>\n",
       "      <td>4</td>\n",
       "    </tr>\n",
       "    <tr>\n",
       "      <th>54804</th>\n",
       "      <td>Operations</td>\n",
       "      <td>Master's &amp; above</td>\n",
       "      <td>f</td>\n",
       "      <td>1</td>\n",
       "      <td>37</td>\n",
       "      <td>2</td>\n",
       "      <td>6</td>\n",
       "      <td>0</td>\n",
       "      <td>0</td>\n",
       "      <td>56</td>\n",
       "      <td>0</td>\n",
       "      <td>2</td>\n",
       "      <td>1</td>\n",
       "      <td>2</td>\n",
       "    </tr>\n",
       "    <tr>\n",
       "      <th>54805</th>\n",
       "      <td>Analytics</td>\n",
       "      <td>Bachelor's</td>\n",
       "      <td>m</td>\n",
       "      <td>1</td>\n",
       "      <td>27</td>\n",
       "      <td>5</td>\n",
       "      <td>3</td>\n",
       "      <td>1</td>\n",
       "      <td>0</td>\n",
       "      <td>79</td>\n",
       "      <td>0</td>\n",
       "      <td>1</td>\n",
       "      <td>3</td>\n",
       "      <td>1</td>\n",
       "    </tr>\n",
       "    <tr>\n",
       "      <th>54807</th>\n",
       "      <td>HR</td>\n",
       "      <td>Bachelor's</td>\n",
       "      <td>m</td>\n",
       "      <td>1</td>\n",
       "      <td>27</td>\n",
       "      <td>1</td>\n",
       "      <td>5</td>\n",
       "      <td>0</td>\n",
       "      <td>0</td>\n",
       "      <td>49</td>\n",
       "      <td>0</td>\n",
       "      <td>1</td>\n",
       "      <td>1</td>\n",
       "      <td>1</td>\n",
       "    </tr>\n",
       "  </tbody>\n",
       "</table>\n",
       "</div>"
      ],
      "text/plain": [
       "              department         education gender  no_of_trainings  age  \\\n",
       "54802  Sales & Marketing        Bachelor's      m                2   31   \n",
       "54803         Technology        Bachelor's      m                1   48   \n",
       "54804         Operations  Master's & above      f                1   37   \n",
       "54805          Analytics        Bachelor's      m                1   27   \n",
       "54807                 HR        Bachelor's      m                1   27   \n",
       "\n",
       "       previous_year_rating  length_of_service  KPIs_met >80%  awards_won?  \\\n",
       "54802                     1                  2              0            0   \n",
       "54803                     3                 17              0            0   \n",
       "54804                     2                  6              0            0   \n",
       "54805                     5                  3              1            0   \n",
       "54807                     1                  5              0            0   \n",
       "\n",
       "       avg_training_score  is_promoted age_catagory  \\\n",
       "54802                  49            0            2   \n",
       "54803                  78            0            4   \n",
       "54804                  56            0            2   \n",
       "54805                  79            0            1   \n",
       "54807                  49            0            1   \n",
       "\n",
       "      avg_training_score_catagory length_of_service_catagory  \n",
       "54802                           1                          1  \n",
       "54803                           3                          4  \n",
       "54804                           1                          2  \n",
       "54805                           3                          1  \n",
       "54807                           1                          1  "
      ]
     },
     "execution_count": 23,
     "metadata": {},
     "output_type": "execute_result"
    }
   ],
   "source": [
    "#Early Career = 1\n",
    "#Mid-Career = 2\n",
    "#Established Professionals = 3\n",
    "#Experienced Leaders = 4\n",
    "\n",
    "age_catagory = []\n",
    "for row in df['age']:\n",
    "        if row < 30:   age_catagory.append('1')\n",
    "        elif row < 40:  age_catagory.append('2')\n",
    "        elif row <18:  age_catagory.append('3')\n",
    "            \n",
    "        else:           age_catagory.append('4')\n",
    "df['age_catagory'] = age_catagory\n",
    "df.tail() "
   ]
  },
  {
   "cell_type": "code",
   "execution_count": 12,
   "id": "90172b7b",
   "metadata": {},
   "outputs": [],
   "source": [
    "df['previous_year_rating'] = df['previous_year_rating'].astype(int)"
   ]
  },
  {
   "cell_type": "code",
   "execution_count": 13,
   "id": "f5dbf636",
   "metadata": {},
   "outputs": [
    {
     "data": {
      "text/html": [
       "<div>\n",
       "<style scoped>\n",
       "    .dataframe tbody tr th:only-of-type {\n",
       "        vertical-align: middle;\n",
       "    }\n",
       "\n",
       "    .dataframe tbody tr th {\n",
       "        vertical-align: top;\n",
       "    }\n",
       "\n",
       "    .dataframe thead th {\n",
       "        text-align: right;\n",
       "    }\n",
       "</style>\n",
       "<table border=\"1\" class=\"dataframe\">\n",
       "  <thead>\n",
       "    <tr style=\"text-align: right;\">\n",
       "      <th></th>\n",
       "      <th>department</th>\n",
       "      <th>education</th>\n",
       "      <th>gender</th>\n",
       "      <th>no_of_trainings</th>\n",
       "      <th>age</th>\n",
       "      <th>previous_year_rating</th>\n",
       "      <th>length_of_service</th>\n",
       "      <th>KPIs_met &gt;80%</th>\n",
       "      <th>awards_won?</th>\n",
       "      <th>avg_training_score</th>\n",
       "      <th>is_promoted</th>\n",
       "      <th>age_catagory</th>\n",
       "    </tr>\n",
       "  </thead>\n",
       "  <tbody>\n",
       "    <tr>\n",
       "      <th>0</th>\n",
       "      <td>Sales &amp; Marketing</td>\n",
       "      <td>Master's &amp; above</td>\n",
       "      <td>f</td>\n",
       "      <td>1</td>\n",
       "      <td>35</td>\n",
       "      <td>5</td>\n",
       "      <td>8</td>\n",
       "      <td>1</td>\n",
       "      <td>0</td>\n",
       "      <td>49</td>\n",
       "      <td>0</td>\n",
       "      <td>Mid-Career</td>\n",
       "    </tr>\n",
       "    <tr>\n",
       "      <th>1</th>\n",
       "      <td>Operations</td>\n",
       "      <td>Bachelor's</td>\n",
       "      <td>m</td>\n",
       "      <td>1</td>\n",
       "      <td>30</td>\n",
       "      <td>5</td>\n",
       "      <td>4</td>\n",
       "      <td>0</td>\n",
       "      <td>0</td>\n",
       "      <td>60</td>\n",
       "      <td>0</td>\n",
       "      <td>Mid-Career</td>\n",
       "    </tr>\n",
       "    <tr>\n",
       "      <th>2</th>\n",
       "      <td>Sales &amp; Marketing</td>\n",
       "      <td>Bachelor's</td>\n",
       "      <td>m</td>\n",
       "      <td>1</td>\n",
       "      <td>34</td>\n",
       "      <td>3</td>\n",
       "      <td>7</td>\n",
       "      <td>0</td>\n",
       "      <td>0</td>\n",
       "      <td>50</td>\n",
       "      <td>0</td>\n",
       "      <td>Mid-Career</td>\n",
       "    </tr>\n",
       "    <tr>\n",
       "      <th>3</th>\n",
       "      <td>Sales &amp; Marketing</td>\n",
       "      <td>Bachelor's</td>\n",
       "      <td>m</td>\n",
       "      <td>2</td>\n",
       "      <td>39</td>\n",
       "      <td>1</td>\n",
       "      <td>10</td>\n",
       "      <td>0</td>\n",
       "      <td>0</td>\n",
       "      <td>50</td>\n",
       "      <td>0</td>\n",
       "      <td>Mid-Career</td>\n",
       "    </tr>\n",
       "    <tr>\n",
       "      <th>4</th>\n",
       "      <td>Technology</td>\n",
       "      <td>Bachelor's</td>\n",
       "      <td>m</td>\n",
       "      <td>1</td>\n",
       "      <td>45</td>\n",
       "      <td>3</td>\n",
       "      <td>2</td>\n",
       "      <td>0</td>\n",
       "      <td>0</td>\n",
       "      <td>73</td>\n",
       "      <td>0</td>\n",
       "      <td>Experienced Leaders</td>\n",
       "    </tr>\n",
       "    <tr>\n",
       "      <th>...</th>\n",
       "      <td>...</td>\n",
       "      <td>...</td>\n",
       "      <td>...</td>\n",
       "      <td>...</td>\n",
       "      <td>...</td>\n",
       "      <td>...</td>\n",
       "      <td>...</td>\n",
       "      <td>...</td>\n",
       "      <td>...</td>\n",
       "      <td>...</td>\n",
       "      <td>...</td>\n",
       "      <td>...</td>\n",
       "    </tr>\n",
       "    <tr>\n",
       "      <th>54802</th>\n",
       "      <td>Sales &amp; Marketing</td>\n",
       "      <td>Bachelor's</td>\n",
       "      <td>m</td>\n",
       "      <td>2</td>\n",
       "      <td>31</td>\n",
       "      <td>1</td>\n",
       "      <td>2</td>\n",
       "      <td>0</td>\n",
       "      <td>0</td>\n",
       "      <td>49</td>\n",
       "      <td>0</td>\n",
       "      <td>Mid-Career</td>\n",
       "    </tr>\n",
       "    <tr>\n",
       "      <th>54803</th>\n",
       "      <td>Technology</td>\n",
       "      <td>Bachelor's</td>\n",
       "      <td>m</td>\n",
       "      <td>1</td>\n",
       "      <td>48</td>\n",
       "      <td>3</td>\n",
       "      <td>17</td>\n",
       "      <td>0</td>\n",
       "      <td>0</td>\n",
       "      <td>78</td>\n",
       "      <td>0</td>\n",
       "      <td>Experienced Leaders</td>\n",
       "    </tr>\n",
       "    <tr>\n",
       "      <th>54804</th>\n",
       "      <td>Operations</td>\n",
       "      <td>Master's &amp; above</td>\n",
       "      <td>f</td>\n",
       "      <td>1</td>\n",
       "      <td>37</td>\n",
       "      <td>2</td>\n",
       "      <td>6</td>\n",
       "      <td>0</td>\n",
       "      <td>0</td>\n",
       "      <td>56</td>\n",
       "      <td>0</td>\n",
       "      <td>Mid-Career</td>\n",
       "    </tr>\n",
       "    <tr>\n",
       "      <th>54805</th>\n",
       "      <td>Analytics</td>\n",
       "      <td>Bachelor's</td>\n",
       "      <td>m</td>\n",
       "      <td>1</td>\n",
       "      <td>27</td>\n",
       "      <td>5</td>\n",
       "      <td>3</td>\n",
       "      <td>1</td>\n",
       "      <td>0</td>\n",
       "      <td>79</td>\n",
       "      <td>0</td>\n",
       "      <td>Early Career</td>\n",
       "    </tr>\n",
       "    <tr>\n",
       "      <th>54807</th>\n",
       "      <td>HR</td>\n",
       "      <td>Bachelor's</td>\n",
       "      <td>m</td>\n",
       "      <td>1</td>\n",
       "      <td>27</td>\n",
       "      <td>1</td>\n",
       "      <td>5</td>\n",
       "      <td>0</td>\n",
       "      <td>0</td>\n",
       "      <td>49</td>\n",
       "      <td>0</td>\n",
       "      <td>Early Career</td>\n",
       "    </tr>\n",
       "  </tbody>\n",
       "</table>\n",
       "<p>48660 rows × 12 columns</p>\n",
       "</div>"
      ],
      "text/plain": [
       "              department         education gender  no_of_trainings  age  \\\n",
       "0      Sales & Marketing  Master's & above      f                1   35   \n",
       "1             Operations        Bachelor's      m                1   30   \n",
       "2      Sales & Marketing        Bachelor's      m                1   34   \n",
       "3      Sales & Marketing        Bachelor's      m                2   39   \n",
       "4             Technology        Bachelor's      m                1   45   \n",
       "...                  ...               ...    ...              ...  ...   \n",
       "54802  Sales & Marketing        Bachelor's      m                2   31   \n",
       "54803         Technology        Bachelor's      m                1   48   \n",
       "54804         Operations  Master's & above      f                1   37   \n",
       "54805          Analytics        Bachelor's      m                1   27   \n",
       "54807                 HR        Bachelor's      m                1   27   \n",
       "\n",
       "       previous_year_rating  length_of_service  KPIs_met >80%  awards_won?  \\\n",
       "0                         5                  8              1            0   \n",
       "1                         5                  4              0            0   \n",
       "2                         3                  7              0            0   \n",
       "3                         1                 10              0            0   \n",
       "4                         3                  2              0            0   \n",
       "...                     ...                ...            ...          ...   \n",
       "54802                     1                  2              0            0   \n",
       "54803                     3                 17              0            0   \n",
       "54804                     2                  6              0            0   \n",
       "54805                     5                  3              1            0   \n",
       "54807                     1                  5              0            0   \n",
       "\n",
       "       avg_training_score  is_promoted         age_catagory  \n",
       "0                      49            0           Mid-Career  \n",
       "1                      60            0           Mid-Career  \n",
       "2                      50            0           Mid-Career  \n",
       "3                      50            0           Mid-Career  \n",
       "4                      73            0  Experienced Leaders  \n",
       "...                   ...          ...                  ...  \n",
       "54802                  49            0           Mid-Career  \n",
       "54803                  78            0  Experienced Leaders  \n",
       "54804                  56            0           Mid-Career  \n",
       "54805                  79            0         Early Career  \n",
       "54807                  49            0         Early Career  \n",
       "\n",
       "[48660 rows x 12 columns]"
      ]
     },
     "execution_count": 13,
     "metadata": {},
     "output_type": "execute_result"
    }
   ],
   "source": [
    "df"
   ]
  },
  {
   "cell_type": "code",
   "execution_count": 21,
   "id": "bf4331f3",
   "metadata": {},
   "outputs": [
    {
     "data": {
      "text/html": [
       "<div>\n",
       "<style scoped>\n",
       "    .dataframe tbody tr th:only-of-type {\n",
       "        vertical-align: middle;\n",
       "    }\n",
       "\n",
       "    .dataframe tbody tr th {\n",
       "        vertical-align: top;\n",
       "    }\n",
       "\n",
       "    .dataframe thead th {\n",
       "        text-align: right;\n",
       "    }\n",
       "</style>\n",
       "<table border=\"1\" class=\"dataframe\">\n",
       "  <thead>\n",
       "    <tr style=\"text-align: right;\">\n",
       "      <th></th>\n",
       "      <th>department</th>\n",
       "      <th>education</th>\n",
       "      <th>gender</th>\n",
       "      <th>no_of_trainings</th>\n",
       "      <th>age</th>\n",
       "      <th>previous_year_rating</th>\n",
       "      <th>length_of_service</th>\n",
       "      <th>KPIs_met &gt;80%</th>\n",
       "      <th>awards_won?</th>\n",
       "      <th>avg_training_score</th>\n",
       "      <th>is_promoted</th>\n",
       "      <th>age_catagory</th>\n",
       "      <th>avg_training_score_catagory</th>\n",
       "      <th>length_of_service_catagory</th>\n",
       "    </tr>\n",
       "  </thead>\n",
       "  <tbody>\n",
       "    <tr>\n",
       "      <th>0</th>\n",
       "      <td>Sales &amp; Marketing</td>\n",
       "      <td>Master's &amp; above</td>\n",
       "      <td>f</td>\n",
       "      <td>1</td>\n",
       "      <td>35</td>\n",
       "      <td>5</td>\n",
       "      <td>8</td>\n",
       "      <td>1</td>\n",
       "      <td>0</td>\n",
       "      <td>49</td>\n",
       "      <td>0</td>\n",
       "      <td>Mid-Career</td>\n",
       "      <td>1</td>\n",
       "      <td>2</td>\n",
       "    </tr>\n",
       "    <tr>\n",
       "      <th>1</th>\n",
       "      <td>Operations</td>\n",
       "      <td>Bachelor's</td>\n",
       "      <td>m</td>\n",
       "      <td>1</td>\n",
       "      <td>30</td>\n",
       "      <td>5</td>\n",
       "      <td>4</td>\n",
       "      <td>0</td>\n",
       "      <td>0</td>\n",
       "      <td>60</td>\n",
       "      <td>0</td>\n",
       "      <td>Mid-Career</td>\n",
       "      <td>2</td>\n",
       "      <td>1</td>\n",
       "    </tr>\n",
       "    <tr>\n",
       "      <th>2</th>\n",
       "      <td>Sales &amp; Marketing</td>\n",
       "      <td>Bachelor's</td>\n",
       "      <td>m</td>\n",
       "      <td>1</td>\n",
       "      <td>34</td>\n",
       "      <td>3</td>\n",
       "      <td>7</td>\n",
       "      <td>0</td>\n",
       "      <td>0</td>\n",
       "      <td>50</td>\n",
       "      <td>0</td>\n",
       "      <td>Mid-Career</td>\n",
       "      <td>1</td>\n",
       "      <td>2</td>\n",
       "    </tr>\n",
       "    <tr>\n",
       "      <th>3</th>\n",
       "      <td>Sales &amp; Marketing</td>\n",
       "      <td>Bachelor's</td>\n",
       "      <td>m</td>\n",
       "      <td>2</td>\n",
       "      <td>39</td>\n",
       "      <td>1</td>\n",
       "      <td>10</td>\n",
       "      <td>0</td>\n",
       "      <td>0</td>\n",
       "      <td>50</td>\n",
       "      <td>0</td>\n",
       "      <td>Mid-Career</td>\n",
       "      <td>1</td>\n",
       "      <td>2</td>\n",
       "    </tr>\n",
       "    <tr>\n",
       "      <th>4</th>\n",
       "      <td>Technology</td>\n",
       "      <td>Bachelor's</td>\n",
       "      <td>m</td>\n",
       "      <td>1</td>\n",
       "      <td>45</td>\n",
       "      <td>3</td>\n",
       "      <td>2</td>\n",
       "      <td>0</td>\n",
       "      <td>0</td>\n",
       "      <td>73</td>\n",
       "      <td>0</td>\n",
       "      <td>Experienced Leaders</td>\n",
       "      <td>3</td>\n",
       "      <td>1</td>\n",
       "    </tr>\n",
       "  </tbody>\n",
       "</table>\n",
       "</div>"
      ],
      "text/plain": [
       "          department         education gender  no_of_trainings  age  \\\n",
       "0  Sales & Marketing  Master's & above      f                1   35   \n",
       "1         Operations        Bachelor's      m                1   30   \n",
       "2  Sales & Marketing        Bachelor's      m                1   34   \n",
       "3  Sales & Marketing        Bachelor's      m                2   39   \n",
       "4         Technology        Bachelor's      m                1   45   \n",
       "\n",
       "   previous_year_rating  length_of_service  KPIs_met >80%  awards_won?  \\\n",
       "0                     5                  8              1            0   \n",
       "1                     5                  4              0            0   \n",
       "2                     3                  7              0            0   \n",
       "3                     1                 10              0            0   \n",
       "4                     3                  2              0            0   \n",
       "\n",
       "   avg_training_score  is_promoted         age_catagory  \\\n",
       "0                  49            0           Mid-Career   \n",
       "1                  60            0           Mid-Career   \n",
       "2                  50            0           Mid-Career   \n",
       "3                  50            0           Mid-Career   \n",
       "4                  73            0  Experienced Leaders   \n",
       "\n",
       "  avg_training_score_catagory length_of_service_catagory  \n",
       "0                           1                          2  \n",
       "1                           2                          1  \n",
       "2                           1                          2  \n",
       "3                           1                          2  \n",
       "4                           3                          1  "
      ]
     },
     "execution_count": 21,
     "metadata": {},
     "output_type": "execute_result"
    }
   ],
   "source": [
    "#poor = 1\n",
    "#Below Average = 2\n",
    "#Average = 3\n",
    "#Above Average = 4\n",
    "#Excellent = 5\n",
    "\n",
    "\n",
    "avg_training_score_catagory = []\n",
    "for row in df['avg_training_score']:\n",
    "        if row < 60:   avg_training_score_catagory.append('1')\n",
    "        elif row < 70:  avg_training_score_catagory.append('2')\n",
    "        elif row < 80:  avg_training_score_catagory.append('3')\n",
    "        elif row < 90:  avg_training_score_catagory.append('4')\n",
    "            \n",
    "        else:           avg_training_score_catagory.append('5')\n",
    "df['avg_training_score_catagory'] = avg_training_score_catagory\n",
    "df.head() "
   ]
  },
  {
   "cell_type": "code",
   "execution_count": 20,
   "id": "8ec6c78b",
   "metadata": {},
   "outputs": [
    {
     "data": {
      "text/html": [
       "<div>\n",
       "<style scoped>\n",
       "    .dataframe tbody tr th:only-of-type {\n",
       "        vertical-align: middle;\n",
       "    }\n",
       "\n",
       "    .dataframe tbody tr th {\n",
       "        vertical-align: top;\n",
       "    }\n",
       "\n",
       "    .dataframe thead th {\n",
       "        text-align: right;\n",
       "    }\n",
       "</style>\n",
       "<table border=\"1\" class=\"dataframe\">\n",
       "  <thead>\n",
       "    <tr style=\"text-align: right;\">\n",
       "      <th></th>\n",
       "      <th>department</th>\n",
       "      <th>education</th>\n",
       "      <th>gender</th>\n",
       "      <th>no_of_trainings</th>\n",
       "      <th>age</th>\n",
       "      <th>previous_year_rating</th>\n",
       "      <th>length_of_service</th>\n",
       "      <th>KPIs_met &gt;80%</th>\n",
       "      <th>awards_won?</th>\n",
       "      <th>avg_training_score</th>\n",
       "      <th>is_promoted</th>\n",
       "      <th>age_catagory</th>\n",
       "      <th>avg_training_score_catagory</th>\n",
       "      <th>length_of_service_catagory</th>\n",
       "    </tr>\n",
       "  </thead>\n",
       "  <tbody>\n",
       "    <tr>\n",
       "      <th>0</th>\n",
       "      <td>Sales &amp; Marketing</td>\n",
       "      <td>Master's &amp; above</td>\n",
       "      <td>f</td>\n",
       "      <td>1</td>\n",
       "      <td>35</td>\n",
       "      <td>5</td>\n",
       "      <td>8</td>\n",
       "      <td>1</td>\n",
       "      <td>0</td>\n",
       "      <td>49</td>\n",
       "      <td>0</td>\n",
       "      <td>Mid-Career</td>\n",
       "      <td>Poor</td>\n",
       "      <td>2</td>\n",
       "    </tr>\n",
       "    <tr>\n",
       "      <th>1</th>\n",
       "      <td>Operations</td>\n",
       "      <td>Bachelor's</td>\n",
       "      <td>m</td>\n",
       "      <td>1</td>\n",
       "      <td>30</td>\n",
       "      <td>5</td>\n",
       "      <td>4</td>\n",
       "      <td>0</td>\n",
       "      <td>0</td>\n",
       "      <td>60</td>\n",
       "      <td>0</td>\n",
       "      <td>Mid-Career</td>\n",
       "      <td>Below Average</td>\n",
       "      <td>1</td>\n",
       "    </tr>\n",
       "    <tr>\n",
       "      <th>2</th>\n",
       "      <td>Sales &amp; Marketing</td>\n",
       "      <td>Bachelor's</td>\n",
       "      <td>m</td>\n",
       "      <td>1</td>\n",
       "      <td>34</td>\n",
       "      <td>3</td>\n",
       "      <td>7</td>\n",
       "      <td>0</td>\n",
       "      <td>0</td>\n",
       "      <td>50</td>\n",
       "      <td>0</td>\n",
       "      <td>Mid-Career</td>\n",
       "      <td>Poor</td>\n",
       "      <td>2</td>\n",
       "    </tr>\n",
       "    <tr>\n",
       "      <th>3</th>\n",
       "      <td>Sales &amp; Marketing</td>\n",
       "      <td>Bachelor's</td>\n",
       "      <td>m</td>\n",
       "      <td>2</td>\n",
       "      <td>39</td>\n",
       "      <td>1</td>\n",
       "      <td>10</td>\n",
       "      <td>0</td>\n",
       "      <td>0</td>\n",
       "      <td>50</td>\n",
       "      <td>0</td>\n",
       "      <td>Mid-Career</td>\n",
       "      <td>Poor</td>\n",
       "      <td>2</td>\n",
       "    </tr>\n",
       "    <tr>\n",
       "      <th>4</th>\n",
       "      <td>Technology</td>\n",
       "      <td>Bachelor's</td>\n",
       "      <td>m</td>\n",
       "      <td>1</td>\n",
       "      <td>45</td>\n",
       "      <td>3</td>\n",
       "      <td>2</td>\n",
       "      <td>0</td>\n",
       "      <td>0</td>\n",
       "      <td>73</td>\n",
       "      <td>0</td>\n",
       "      <td>Experienced Leaders</td>\n",
       "      <td>Average</td>\n",
       "      <td>1</td>\n",
       "    </tr>\n",
       "  </tbody>\n",
       "</table>\n",
       "</div>"
      ],
      "text/plain": [
       "          department         education gender  no_of_trainings  age  \\\n",
       "0  Sales & Marketing  Master's & above      f                1   35   \n",
       "1         Operations        Bachelor's      m                1   30   \n",
       "2  Sales & Marketing        Bachelor's      m                1   34   \n",
       "3  Sales & Marketing        Bachelor's      m                2   39   \n",
       "4         Technology        Bachelor's      m                1   45   \n",
       "\n",
       "   previous_year_rating  length_of_service  KPIs_met >80%  awards_won?  \\\n",
       "0                     5                  8              1            0   \n",
       "1                     5                  4              0            0   \n",
       "2                     3                  7              0            0   \n",
       "3                     1                 10              0            0   \n",
       "4                     3                  2              0            0   \n",
       "\n",
       "   avg_training_score  is_promoted         age_catagory  \\\n",
       "0                  49            0           Mid-Career   \n",
       "1                  60            0           Mid-Career   \n",
       "2                  50            0           Mid-Career   \n",
       "3                  50            0           Mid-Career   \n",
       "4                  73            0  Experienced Leaders   \n",
       "\n",
       "  avg_training_score_catagory length_of_service_catagory  \n",
       "0                        Poor                          2  \n",
       "1               Below Average                          1  \n",
       "2                        Poor                          2  \n",
       "3                        Poor                          2  \n",
       "4                     Average                          1  "
      ]
     },
     "execution_count": 20,
     "metadata": {},
     "output_type": "execute_result"
    }
   ],
   "source": [
    "#Novice = 1\n",
    "#Intermediate = 2\n",
    "#Advanced = 3\n",
    "#Expert = 4\n",
    "\n",
    "\n",
    "length_of_service_catagory = []\n",
    "for row in df['length_of_service']:\n",
    "        if row <= 5:   length_of_service_catagory.append('1')\n",
    "        elif row <= 10:  length_of_service_catagory.append('2')\n",
    "        elif row <= 15:  length_of_service_catagory.append('3')\n",
    "            \n",
    "        else:           length_of_service_catagory.append('4')\n",
    "df['length_of_service_catagory'] = length_of_service_catagory\n",
    "df.head() "
   ]
  },
  {
   "cell_type": "code",
   "execution_count": 25,
   "id": "2d922c2d",
   "metadata": {},
   "outputs": [
    {
     "data": {
      "text/html": [
       "<div>\n",
       "<style scoped>\n",
       "    .dataframe tbody tr th:only-of-type {\n",
       "        vertical-align: middle;\n",
       "    }\n",
       "\n",
       "    .dataframe tbody tr th {\n",
       "        vertical-align: top;\n",
       "    }\n",
       "\n",
       "    .dataframe thead th {\n",
       "        text-align: right;\n",
       "    }\n",
       "</style>\n",
       "<table border=\"1\" class=\"dataframe\">\n",
       "  <thead>\n",
       "    <tr style=\"text-align: right;\">\n",
       "      <th></th>\n",
       "      <th>department</th>\n",
       "      <th>education</th>\n",
       "      <th>gender</th>\n",
       "      <th>no_of_trainings</th>\n",
       "      <th>age</th>\n",
       "      <th>previous_year_rating</th>\n",
       "      <th>length_of_service</th>\n",
       "      <th>KPIs_met &gt;80%</th>\n",
       "      <th>awards_won?</th>\n",
       "      <th>avg_training_score</th>\n",
       "      <th>is_promoted</th>\n",
       "      <th>age_catagory</th>\n",
       "      <th>avg_training_score_catagory</th>\n",
       "      <th>length_of_service_catagory</th>\n",
       "    </tr>\n",
       "  </thead>\n",
       "  <tbody>\n",
       "    <tr>\n",
       "      <th>0</th>\n",
       "      <td>Sales &amp; Marketing</td>\n",
       "      <td>Master's &amp; above</td>\n",
       "      <td>f</td>\n",
       "      <td>1</td>\n",
       "      <td>35</td>\n",
       "      <td>5</td>\n",
       "      <td>8</td>\n",
       "      <td>1</td>\n",
       "      <td>0</td>\n",
       "      <td>49</td>\n",
       "      <td>0</td>\n",
       "      <td>2</td>\n",
       "      <td>1</td>\n",
       "      <td>2</td>\n",
       "    </tr>\n",
       "    <tr>\n",
       "      <th>1</th>\n",
       "      <td>Operations</td>\n",
       "      <td>Bachelor's</td>\n",
       "      <td>m</td>\n",
       "      <td>1</td>\n",
       "      <td>30</td>\n",
       "      <td>5</td>\n",
       "      <td>4</td>\n",
       "      <td>0</td>\n",
       "      <td>0</td>\n",
       "      <td>60</td>\n",
       "      <td>0</td>\n",
       "      <td>2</td>\n",
       "      <td>2</td>\n",
       "      <td>1</td>\n",
       "    </tr>\n",
       "    <tr>\n",
       "      <th>2</th>\n",
       "      <td>Sales &amp; Marketing</td>\n",
       "      <td>Bachelor's</td>\n",
       "      <td>m</td>\n",
       "      <td>1</td>\n",
       "      <td>34</td>\n",
       "      <td>3</td>\n",
       "      <td>7</td>\n",
       "      <td>0</td>\n",
       "      <td>0</td>\n",
       "      <td>50</td>\n",
       "      <td>0</td>\n",
       "      <td>2</td>\n",
       "      <td>1</td>\n",
       "      <td>2</td>\n",
       "    </tr>\n",
       "    <tr>\n",
       "      <th>3</th>\n",
       "      <td>Sales &amp; Marketing</td>\n",
       "      <td>Bachelor's</td>\n",
       "      <td>m</td>\n",
       "      <td>2</td>\n",
       "      <td>39</td>\n",
       "      <td>1</td>\n",
       "      <td>10</td>\n",
       "      <td>0</td>\n",
       "      <td>0</td>\n",
       "      <td>50</td>\n",
       "      <td>0</td>\n",
       "      <td>2</td>\n",
       "      <td>1</td>\n",
       "      <td>2</td>\n",
       "    </tr>\n",
       "    <tr>\n",
       "      <th>4</th>\n",
       "      <td>Technology</td>\n",
       "      <td>Bachelor's</td>\n",
       "      <td>m</td>\n",
       "      <td>1</td>\n",
       "      <td>45</td>\n",
       "      <td>3</td>\n",
       "      <td>2</td>\n",
       "      <td>0</td>\n",
       "      <td>0</td>\n",
       "      <td>73</td>\n",
       "      <td>0</td>\n",
       "      <td>4</td>\n",
       "      <td>3</td>\n",
       "      <td>1</td>\n",
       "    </tr>\n",
       "  </tbody>\n",
       "</table>\n",
       "</div>"
      ],
      "text/plain": [
       "          department         education gender  no_of_trainings  age  \\\n",
       "0  Sales & Marketing  Master's & above      f                1   35   \n",
       "1         Operations        Bachelor's      m                1   30   \n",
       "2  Sales & Marketing        Bachelor's      m                1   34   \n",
       "3  Sales & Marketing        Bachelor's      m                2   39   \n",
       "4         Technology        Bachelor's      m                1   45   \n",
       "\n",
       "   previous_year_rating  length_of_service  KPIs_met >80%  awards_won?  \\\n",
       "0                     5                  8              1            0   \n",
       "1                     5                  4              0            0   \n",
       "2                     3                  7              0            0   \n",
       "3                     1                 10              0            0   \n",
       "4                     3                  2              0            0   \n",
       "\n",
       "   avg_training_score  is_promoted age_catagory avg_training_score_catagory  \\\n",
       "0                  49            0            2                           1   \n",
       "1                  60            0            2                           2   \n",
       "2                  50            0            2                           1   \n",
       "3                  50            0            2                           1   \n",
       "4                  73            0            4                           3   \n",
       "\n",
       "  length_of_service_catagory  \n",
       "0                          2  \n",
       "1                          1  \n",
       "2                          2  \n",
       "3                          2  \n",
       "4                          1  "
      ]
     },
     "execution_count": 25,
     "metadata": {},
     "output_type": "execute_result"
    }
   ],
   "source": [
    "\n",
    "df.head()"
   ]
  },
  {
   "cell_type": "code",
   "execution_count": 27,
   "id": "be518097",
   "metadata": {},
   "outputs": [],
   "source": [
    "df.drop(['age','length_of_service','avg_training_score'], axis=1, inplace=True)"
   ]
  },
  {
   "cell_type": "code",
   "execution_count": 28,
   "id": "cb8b459e",
   "metadata": {},
   "outputs": [
    {
     "data": {
      "text/html": [
       "<div>\n",
       "<style scoped>\n",
       "    .dataframe tbody tr th:only-of-type {\n",
       "        vertical-align: middle;\n",
       "    }\n",
       "\n",
       "    .dataframe tbody tr th {\n",
       "        vertical-align: top;\n",
       "    }\n",
       "\n",
       "    .dataframe thead th {\n",
       "        text-align: right;\n",
       "    }\n",
       "</style>\n",
       "<table border=\"1\" class=\"dataframe\">\n",
       "  <thead>\n",
       "    <tr style=\"text-align: right;\">\n",
       "      <th></th>\n",
       "      <th>department</th>\n",
       "      <th>education</th>\n",
       "      <th>gender</th>\n",
       "      <th>no_of_trainings</th>\n",
       "      <th>previous_year_rating</th>\n",
       "      <th>KPIs_met &gt;80%</th>\n",
       "      <th>awards_won?</th>\n",
       "      <th>is_promoted</th>\n",
       "      <th>age_catagory</th>\n",
       "      <th>avg_training_score_catagory</th>\n",
       "      <th>length_of_service_catagory</th>\n",
       "    </tr>\n",
       "  </thead>\n",
       "  <tbody>\n",
       "    <tr>\n",
       "      <th>0</th>\n",
       "      <td>Sales &amp; Marketing</td>\n",
       "      <td>Master's &amp; above</td>\n",
       "      <td>f</td>\n",
       "      <td>1</td>\n",
       "      <td>5</td>\n",
       "      <td>1</td>\n",
       "      <td>0</td>\n",
       "      <td>0</td>\n",
       "      <td>2</td>\n",
       "      <td>1</td>\n",
       "      <td>2</td>\n",
       "    </tr>\n",
       "    <tr>\n",
       "      <th>1</th>\n",
       "      <td>Operations</td>\n",
       "      <td>Bachelor's</td>\n",
       "      <td>m</td>\n",
       "      <td>1</td>\n",
       "      <td>5</td>\n",
       "      <td>0</td>\n",
       "      <td>0</td>\n",
       "      <td>0</td>\n",
       "      <td>2</td>\n",
       "      <td>2</td>\n",
       "      <td>1</td>\n",
       "    </tr>\n",
       "    <tr>\n",
       "      <th>2</th>\n",
       "      <td>Sales &amp; Marketing</td>\n",
       "      <td>Bachelor's</td>\n",
       "      <td>m</td>\n",
       "      <td>1</td>\n",
       "      <td>3</td>\n",
       "      <td>0</td>\n",
       "      <td>0</td>\n",
       "      <td>0</td>\n",
       "      <td>2</td>\n",
       "      <td>1</td>\n",
       "      <td>2</td>\n",
       "    </tr>\n",
       "    <tr>\n",
       "      <th>3</th>\n",
       "      <td>Sales &amp; Marketing</td>\n",
       "      <td>Bachelor's</td>\n",
       "      <td>m</td>\n",
       "      <td>2</td>\n",
       "      <td>1</td>\n",
       "      <td>0</td>\n",
       "      <td>0</td>\n",
       "      <td>0</td>\n",
       "      <td>2</td>\n",
       "      <td>1</td>\n",
       "      <td>2</td>\n",
       "    </tr>\n",
       "    <tr>\n",
       "      <th>4</th>\n",
       "      <td>Technology</td>\n",
       "      <td>Bachelor's</td>\n",
       "      <td>m</td>\n",
       "      <td>1</td>\n",
       "      <td>3</td>\n",
       "      <td>0</td>\n",
       "      <td>0</td>\n",
       "      <td>0</td>\n",
       "      <td>4</td>\n",
       "      <td>3</td>\n",
       "      <td>1</td>\n",
       "    </tr>\n",
       "  </tbody>\n",
       "</table>\n",
       "</div>"
      ],
      "text/plain": [
       "          department         education gender  no_of_trainings  \\\n",
       "0  Sales & Marketing  Master's & above      f                1   \n",
       "1         Operations        Bachelor's      m                1   \n",
       "2  Sales & Marketing        Bachelor's      m                1   \n",
       "3  Sales & Marketing        Bachelor's      m                2   \n",
       "4         Technology        Bachelor's      m                1   \n",
       "\n",
       "   previous_year_rating  KPIs_met >80%  awards_won?  is_promoted age_catagory  \\\n",
       "0                     5              1            0            0            2   \n",
       "1                     5              0            0            0            2   \n",
       "2                     3              0            0            0            2   \n",
       "3                     1              0            0            0            2   \n",
       "4                     3              0            0            0            4   \n",
       "\n",
       "  avg_training_score_catagory length_of_service_catagory  \n",
       "0                           1                          2  \n",
       "1                           2                          1  \n",
       "2                           1                          2  \n",
       "3                           1                          2  \n",
       "4                           3                          1  "
      ]
     },
     "execution_count": 28,
     "metadata": {},
     "output_type": "execute_result"
    }
   ],
   "source": [
    "df.head()"
   ]
  },
  {
   "cell_type": "code",
   "execution_count": 31,
   "id": "ed5c8bb2",
   "metadata": {},
   "outputs": [],
   "source": [
    "from sklearn.preprocessing import LabelEncoder\n",
    "label_encoder = LabelEncoder()"
   ]
  },
  {
   "cell_type": "code",
   "execution_count": 32,
   "id": "d9534f6d",
   "metadata": {},
   "outputs": [],
   "source": [
    "df['gender_encoded'] = label_encoder.fit_transform(df['gender'])"
   ]
  },
  {
   "cell_type": "code",
   "execution_count": 33,
   "id": "9257efe1",
   "metadata": {},
   "outputs": [],
   "source": [
    "df['education_encoded'] = label_encoder.fit_transform(df['education'])\n",
    "df['department_encoded'] = label_encoder.fit_transform(df['department'])\n"
   ]
  },
  {
   "cell_type": "code",
   "execution_count": 37,
   "id": "4ea2b323",
   "metadata": {},
   "outputs": [
    {
     "data": {
      "text/html": [
       "<div>\n",
       "<style scoped>\n",
       "    .dataframe tbody tr th:only-of-type {\n",
       "        vertical-align: middle;\n",
       "    }\n",
       "\n",
       "    .dataframe tbody tr th {\n",
       "        vertical-align: top;\n",
       "    }\n",
       "\n",
       "    .dataframe thead th {\n",
       "        text-align: right;\n",
       "    }\n",
       "</style>\n",
       "<table border=\"1\" class=\"dataframe\">\n",
       "  <thead>\n",
       "    <tr style=\"text-align: right;\">\n",
       "      <th></th>\n",
       "      <th>no_of_trainings</th>\n",
       "      <th>previous_year_rating</th>\n",
       "      <th>KPIs_met &gt;80%</th>\n",
       "      <th>awards_won?</th>\n",
       "      <th>is_promoted</th>\n",
       "      <th>age_catagory</th>\n",
       "      <th>avg_training_score_catagory</th>\n",
       "      <th>length_of_service_catagory</th>\n",
       "      <th>gender_encoded</th>\n",
       "      <th>education_encoded</th>\n",
       "      <th>department_encoded</th>\n",
       "    </tr>\n",
       "  </thead>\n",
       "  <tbody>\n",
       "    <tr>\n",
       "      <th>0</th>\n",
       "      <td>1</td>\n",
       "      <td>5</td>\n",
       "      <td>1</td>\n",
       "      <td>0</td>\n",
       "      <td>0</td>\n",
       "      <td>2</td>\n",
       "      <td>1</td>\n",
       "      <td>2</td>\n",
       "      <td>0</td>\n",
       "      <td>2</td>\n",
       "      <td>7</td>\n",
       "    </tr>\n",
       "    <tr>\n",
       "      <th>1</th>\n",
       "      <td>1</td>\n",
       "      <td>5</td>\n",
       "      <td>0</td>\n",
       "      <td>0</td>\n",
       "      <td>0</td>\n",
       "      <td>2</td>\n",
       "      <td>2</td>\n",
       "      <td>1</td>\n",
       "      <td>1</td>\n",
       "      <td>0</td>\n",
       "      <td>4</td>\n",
       "    </tr>\n",
       "    <tr>\n",
       "      <th>2</th>\n",
       "      <td>1</td>\n",
       "      <td>3</td>\n",
       "      <td>0</td>\n",
       "      <td>0</td>\n",
       "      <td>0</td>\n",
       "      <td>2</td>\n",
       "      <td>1</td>\n",
       "      <td>2</td>\n",
       "      <td>1</td>\n",
       "      <td>0</td>\n",
       "      <td>7</td>\n",
       "    </tr>\n",
       "    <tr>\n",
       "      <th>3</th>\n",
       "      <td>2</td>\n",
       "      <td>1</td>\n",
       "      <td>0</td>\n",
       "      <td>0</td>\n",
       "      <td>0</td>\n",
       "      <td>2</td>\n",
       "      <td>1</td>\n",
       "      <td>2</td>\n",
       "      <td>1</td>\n",
       "      <td>0</td>\n",
       "      <td>7</td>\n",
       "    </tr>\n",
       "    <tr>\n",
       "      <th>4</th>\n",
       "      <td>1</td>\n",
       "      <td>3</td>\n",
       "      <td>0</td>\n",
       "      <td>0</td>\n",
       "      <td>0</td>\n",
       "      <td>4</td>\n",
       "      <td>3</td>\n",
       "      <td>1</td>\n",
       "      <td>1</td>\n",
       "      <td>0</td>\n",
       "      <td>8</td>\n",
       "    </tr>\n",
       "  </tbody>\n",
       "</table>\n",
       "</div>"
      ],
      "text/plain": [
       "   no_of_trainings  previous_year_rating  KPIs_met >80%  awards_won?  \\\n",
       "0                1                     5              1            0   \n",
       "1                1                     5              0            0   \n",
       "2                1                     3              0            0   \n",
       "3                2                     1              0            0   \n",
       "4                1                     3              0            0   \n",
       "\n",
       "   is_promoted age_catagory avg_training_score_catagory  \\\n",
       "0            0            2                           1   \n",
       "1            0            2                           2   \n",
       "2            0            2                           1   \n",
       "3            0            2                           1   \n",
       "4            0            4                           3   \n",
       "\n",
       "  length_of_service_catagory  gender_encoded  education_encoded  \\\n",
       "0                          2               0                  2   \n",
       "1                          1               1                  0   \n",
       "2                          2               1                  0   \n",
       "3                          2               1                  0   \n",
       "4                          1               1                  0   \n",
       "\n",
       "   department_encoded  \n",
       "0                   7  \n",
       "1                   4  \n",
       "2                   7  \n",
       "3                   7  \n",
       "4                   8  "
      ]
     },
     "execution_count": 37,
     "metadata": {},
     "output_type": "execute_result"
    }
   ],
   "source": [
    "df.head()"
   ]
  },
  {
   "cell_type": "code",
   "execution_count": 36,
   "id": "74d6dd12",
   "metadata": {},
   "outputs": [],
   "source": [
    "df.drop(['department','education','gender'], axis=1, inplace=True)"
   ]
  },
  {
   "cell_type": "markdown",
   "id": "59c8eae8",
   "metadata": {},
   "source": [
    "## Spliting the dataset into train and test set (MAIN DATASET)"
   ]
  },
  {
   "cell_type": "code",
   "execution_count": 38,
   "id": "e97c8f82",
   "metadata": {},
   "outputs": [],
   "source": [
    "import matplotlib.pyplot as plt\n",
    "from sklearn.model_selection import train_test_split"
   ]
  },
  {
   "cell_type": "code",
   "execution_count": 39,
   "id": "f5e57122",
   "metadata": {},
   "outputs": [],
   "source": [
    "X = df[[ 'department_encoded', 'education_encoded', 'gender_encoded', 'no_of_trainings', 'age_catagory', 'previous_year_rating',\n",
    "       'length_of_service_catagory', 'KPIs_met >80%', 'awards_won?',\n",
    "       'avg_training_score_catagory' ]]"
   ]
  },
  {
   "cell_type": "code",
   "execution_count": 40,
   "id": "70fcd869",
   "metadata": {},
   "outputs": [],
   "source": [
    "y = df[['is_promoted']]"
   ]
  },
  {
   "cell_type": "code",
   "execution_count": 41,
   "id": "dcf72baf",
   "metadata": {},
   "outputs": [],
   "source": [
    "X = pd.DataFrame(X)"
   ]
  },
  {
   "cell_type": "code",
   "execution_count": 42,
   "id": "228687d4",
   "metadata": {},
   "outputs": [],
   "source": [
    "y = pd.DataFrame(y)"
   ]
  },
  {
   "cell_type": "code",
   "execution_count": 43,
   "id": "ddbb21ed",
   "metadata": {},
   "outputs": [],
   "source": [
    "X_train, X_test, y_train, y_test = train_test_split(X, y, random_state=0, train_size = 0.75)"
   ]
  },
  {
   "cell_type": "code",
   "execution_count": 44,
   "id": "b097e600",
   "metadata": {},
   "outputs": [
    {
     "name": "stdout",
     "output_type": "stream",
     "text": [
      "<class 'pandas.core.frame.DataFrame'>\n",
      "Int64Index: 36495 entries, 18008 to 3106\n",
      "Data columns (total 10 columns):\n",
      " #   Column                       Non-Null Count  Dtype \n",
      "---  ------                       --------------  ----- \n",
      " 0   department_encoded           36495 non-null  int32 \n",
      " 1   education_encoded            36495 non-null  int32 \n",
      " 2   gender_encoded               36495 non-null  int32 \n",
      " 3   no_of_trainings              36495 non-null  int64 \n",
      " 4   age_catagory                 36495 non-null  object\n",
      " 5   previous_year_rating         36495 non-null  int32 \n",
      " 6   length_of_service_catagory   36495 non-null  object\n",
      " 7   KPIs_met >80%                36495 non-null  int64 \n",
      " 8   awards_won?                  36495 non-null  int64 \n",
      " 9   avg_training_score_catagory  36495 non-null  object\n",
      "dtypes: int32(4), int64(3), object(3)\n",
      "memory usage: 2.5+ MB\n"
     ]
    }
   ],
   "source": [
    "X_train.info()"
   ]
  },
  {
   "cell_type": "code",
   "execution_count": null,
   "id": "1d89494e",
   "metadata": {},
   "outputs": [],
   "source": [
    "X_test.info()"
   ]
  },
  {
   "cell_type": "markdown",
   "id": "625b2102",
   "metadata": {},
   "source": [
    "## standerdize the data"
   ]
  },
  {
   "cell_type": "code",
   "execution_count": 45,
   "id": "bcc81a78",
   "metadata": {},
   "outputs": [],
   "source": [
    "#Now standerdize the value tp make them between o to 1 \n",
    "#using standard scaler or minmax scaler\n",
    "#from sklearn.preprocessing import MinMaxScaler\n",
    "#however i am gonna use standard scaler\n",
    "from sklearn.preprocessing import StandardScaler"
   ]
  },
  {
   "cell_type": "code",
   "execution_count": 46,
   "id": "8054c18c",
   "metadata": {},
   "outputs": [
    {
     "data": {
      "text/plain": [
       "StandardScaler()"
      ]
     },
     "execution_count": 46,
     "metadata": {},
     "output_type": "execute_result"
    }
   ],
   "source": [
    "#first fit then transform train data\n",
    "scaler=StandardScaler()\n",
    "scaler.fit(X_train)"
   ]
  },
  {
   "cell_type": "code",
   "execution_count": 47,
   "id": "2096b2a6",
   "metadata": {},
   "outputs": [],
   "source": [
    "scaled_train_data=scaler.transform(X_train)"
   ]
  },
  {
   "cell_type": "code",
   "execution_count": 48,
   "id": "b934f9bc",
   "metadata": {},
   "outputs": [
    {
     "data": {
      "text/plain": [
       "array([[ 0.81875203, -0.67260057,  0.66048889, ..., -0.74518127,\n",
       "        -0.15226966, -0.89666174],\n",
       "       [-0.38796623, -0.67260057,  0.66048889, ..., -0.74518127,\n",
       "        -0.15226966, -0.06063726],\n",
       "       [ 1.22099146, -0.67260057,  0.66048889, ...,  1.34195537,\n",
       "        -0.15226966,  1.6114117 ],\n",
       "       ...,\n",
       "       [-0.38796623, -0.67260057, -1.51403001, ..., -0.74518127,\n",
       "        -0.15226966, -0.06063726],\n",
       "       [-0.38796623, -0.67260057,  0.66048889, ...,  1.34195537,\n",
       "        -0.15226966, -0.89666174],\n",
       "       [-0.38796623,  1.50418814, -1.51403001, ..., -0.74518127,\n",
       "         6.5672965 ,  2.44743618]])"
      ]
     },
     "execution_count": 48,
     "metadata": {},
     "output_type": "execute_result"
    }
   ],
   "source": [
    "scaled_train_data"
   ]
  },
  {
   "cell_type": "code",
   "execution_count": 49,
   "id": "b80715e2",
   "metadata": {},
   "outputs": [
    {
     "data": {
      "text/plain": [
       "StandardScaler()"
      ]
     },
     "execution_count": 49,
     "metadata": {},
     "output_type": "execute_result"
    }
   ],
   "source": [
    "#fit then transform test data\n",
    "scaler.fit(X_test)"
   ]
  },
  {
   "cell_type": "code",
   "execution_count": 50,
   "id": "81d50bff",
   "metadata": {},
   "outputs": [],
   "source": [
    "scaled_test_data=scaler.transform(X_test)"
   ]
  },
  {
   "cell_type": "code",
   "execution_count": 51,
   "id": "d5ddeee3",
   "metadata": {},
   "outputs": [
    {
     "data": {
      "text/plain": [
       "array([[ 0.82189736, -0.6707641 ,  0.66408527, ..., -0.74153824,\n",
       "        -0.15873892, -0.90380507],\n",
       "       [ 0.82189736,  1.50490455, -1.50583073, ..., -0.74153824,\n",
       "        -0.15873892, -0.90380507],\n",
       "       [-0.38802334, -0.6707641 , -1.50583073, ...,  1.34854812,\n",
       "        -0.15873892, -0.06782661],\n",
       "       ...,\n",
       "       [-0.38802334, -0.6707641 ,  0.66408527, ..., -0.74153824,\n",
       "        -0.15873892, -0.90380507],\n",
       "       [ 1.22520426, -0.6707641 , -1.50583073, ..., -0.74153824,\n",
       "        -0.15873892,  0.76815184],\n",
       "       [-2.00125095, -0.6707641 ,  0.66408527, ..., -0.74153824,\n",
       "        -0.15873892,  1.6041303 ]])"
      ]
     },
     "execution_count": 51,
     "metadata": {},
     "output_type": "execute_result"
    }
   ],
   "source": [
    "scaled_test_data"
   ]
  },
  {
   "cell_type": "markdown",
   "id": "b487a8a7",
   "metadata": {},
   "source": [
    "## Apply PCA to find the principal components (fit and transform the train set and test set)"
   ]
  },
  {
   "cell_type": "code",
   "execution_count": 52,
   "id": "85a7f8ea",
   "metadata": {},
   "outputs": [],
   "source": [
    "# import PCA from sklearn.decomposiotion\n",
    "from sklearn.decomposition import PCA"
   ]
  },
  {
   "cell_type": "code",
   "execution_count": 55,
   "id": "54be1fbd",
   "metadata": {},
   "outputs": [],
   "source": [
    "#define how many of dimention you want\n",
    "pca=PCA(n_components=5)"
   ]
  },
  {
   "cell_type": "code",
   "execution_count": 56,
   "id": "7053fdba",
   "metadata": {},
   "outputs": [
    {
     "data": {
      "text/plain": [
       "PCA(n_components=5)"
      ]
     },
     "execution_count": 56,
     "metadata": {},
     "output_type": "execute_result"
    }
   ],
   "source": [
    "#again fit and transform the scaled data\n",
    "pca.fit(scaled_train_data)"
   ]
  },
  {
   "cell_type": "code",
   "execution_count": 57,
   "id": "8963b03a",
   "metadata": {},
   "outputs": [],
   "source": [
    "x_train_pca=pca.transform(scaled_train_data)"
   ]
  },
  {
   "cell_type": "code",
   "execution_count": 58,
   "id": "b272c7d8",
   "metadata": {},
   "outputs": [],
   "source": [
    "# do the same for test data\n",
    "#fit and transform test data\n",
    "pca.fit(scaled_test_data)\n",
    "x_test_pca=pca.transform(scaled_test_data)"
   ]
  },
  {
   "cell_type": "code",
   "execution_count": 59,
   "id": "fa601087",
   "metadata": {},
   "outputs": [
    {
     "data": {
      "text/plain": [
       "(36495, 10)"
      ]
     },
     "execution_count": 59,
     "metadata": {},
     "output_type": "execute_result"
    }
   ],
   "source": [
    "#check the dimensions\n",
    "scaled_train_data.shape"
   ]
  },
  {
   "cell_type": "code",
   "execution_count": 60,
   "id": "b8913680",
   "metadata": {},
   "outputs": [
    {
     "data": {
      "text/plain": [
       "(36495, 5)"
      ]
     },
     "execution_count": 60,
     "metadata": {},
     "output_type": "execute_result"
    }
   ],
   "source": [
    "x_train_pca.shape"
   ]
  },
  {
   "cell_type": "markdown",
   "id": "79de4675",
   "metadata": {},
   "source": [
    "## Generate Scree plot to find the best number of principal components (denote it as d)."
   ]
  },
  {
   "cell_type": "code",
   "execution_count": 63,
   "id": "d88e83eb",
   "metadata": {},
   "outputs": [
    {
     "data": {
      "image/png": "[encoded data removed]",
      "text/plain": [
       "<Figure size 432x288 with 1 Axes>"
      ]
     },
     "metadata": {
      "needs_background": "light"
     },
     "output_type": "display_data"
    }
   ],
   "source": [
    "pca = PCA()\n",
    "pca.fit(scaled_train_data)\n",
    "\n",
    "# Generate the scree plot\n",
    "plt.plot(pca.explained_variance_ratio_)\n",
    "plt.xlabel('Number of Principal Components')\n",
    "plt.ylabel('Proportion of Variance Explained')\n",
    "plt.show()"
   ]
  },
  {
   "cell_type": "code",
   "execution_count": 81,
   "id": "83b175ab",
   "metadata": {},
   "outputs": [],
   "source": [
    "pca=PCA(n_components=3)"
   ]
  },
  {
   "cell_type": "code",
   "execution_count": 82,
   "id": "d7a87b5c",
   "metadata": {},
   "outputs": [
    {
     "data": {
      "text/plain": [
       "PCA(n_components=3)"
      ]
     },
     "execution_count": 82,
     "metadata": {},
     "output_type": "execute_result"
    }
   ],
   "source": [
    "#again fit and transform the scaled data\n",
    "pca.fit(scaled_train_data)"
   ]
  },
  {
   "cell_type": "code",
   "execution_count": 83,
   "id": "01498922",
   "metadata": {},
   "outputs": [
    {
     "name": "stdout",
     "output_type": "stream",
     "text": [
      "Explained Variance:  [1.78569535 1.46364528 1.13609766]\n"
     ]
    }
   ],
   "source": [
    "# Print the explained variance of each principal component\n",
    "print(\"Explained Variance: \", pca.explained_variance_)"
   ]
  },
  {
   "cell_type": "code",
   "execution_count": 84,
   "id": "4ee08e7a",
   "metadata": {},
   "outputs": [
    {
     "name": "stdout",
     "output_type": "stream",
     "text": [
      "Sum of Explained Variance:  4.385438288860913\n"
     ]
    }
   ],
   "source": [
    "# Print the sum of the explained variance\n",
    "print(\"Sum of Explained Variance: \", pca.explained_variance_.sum())"
   ]
  },
  {
   "cell_type": "markdown",
   "id": "e437941e",
   "metadata": {},
   "source": [
    "# Let's start for LDA"
   ]
  },
  {
   "cell_type": "code",
   "execution_count": 66,
   "id": "394c7fa1",
   "metadata": {},
   "outputs": [
    {
     "name": "stderr",
     "output_type": "stream",
     "text": [
      "c:\\users\\katha\\appdata\\local\\programs\\python\\python37\\lib\\site-packages\\sklearn\\utils\\validation.py:993: DataConversionWarning: A column-vector y was passed when a 1d array was expected. Please change the shape of y to (n_samples, ), for example using ravel().\n",
      "  y = column_or_1d(y, warn=True)\n",
      "c:\\users\\katha\\appdata\\local\\programs\\python\\python37\\lib\\site-packages\\sklearn\\utils\\validation.py:993: DataConversionWarning: A column-vector y was passed when a 1d array was expected. Please change the shape of y to (n_samples, ), for example using ravel().\n",
      "  y = column_or_1d(y, warn=True)\n"
     ]
    }
   ],
   "source": [
    "from sklearn.discriminant_analysis import LinearDiscriminantAnalysis as LDA\n",
    "\n",
    "# Apply FDA to reduce dimensionality\n",
    "lda = LDA(n_components= 1)\n",
    "x_train_lda = lda.fit_transform(scaled_train_data , y_train)\n",
    "x_test_lda = lda.fit_transform(scaled_test_data , y_test)"
   ]
  },
  {
   "cell_type": "code",
   "execution_count": 67,
   "id": "30659207",
   "metadata": {},
   "outputs": [
    {
     "data": {
      "text/plain": [
       "(36495, 10)"
      ]
     },
     "execution_count": 67,
     "metadata": {},
     "output_type": "execute_result"
    }
   ],
   "source": [
    "#check the dimensions\n",
    "scaled_train_data.shape\n"
   ]
  },
  {
   "cell_type": "code",
   "execution_count": 68,
   "id": "30ce3052",
   "metadata": {},
   "outputs": [
    {
     "data": {
      "text/plain": [
       "(36495, 1)"
      ]
     },
     "execution_count": 68,
     "metadata": {},
     "output_type": "execute_result"
    }
   ],
   "source": [
    "x_train_lda.shape"
   ]
  },
  {
   "cell_type": "code",
   "execution_count": 69,
   "id": "4308fab2",
   "metadata": {},
   "outputs": [
    {
     "data": {
      "text/plain": [
       "(12165, 1)"
      ]
     },
     "execution_count": 69,
     "metadata": {},
     "output_type": "execute_result"
    }
   ],
   "source": [
    "x_test_lda.shape"
   ]
  },
  {
   "cell_type": "markdown",
   "id": "d2a77f64",
   "metadata": {},
   "source": [
    "## Preparation of dataset is done... Now let's start modelling using various algorithm"
   ]
  },
  {
   "cell_type": "markdown",
   "id": "1e8b3bad",
   "metadata": {},
   "source": [
    "## 1) Random forest"
   ]
  },
  {
   "cell_type": "markdown",
   "id": "be57a686",
   "metadata": {},
   "source": [
    "## (a) For Main scaled dataset"
   ]
  },
  {
   "cell_type": "code",
   "execution_count": 71,
   "id": "f14f898e",
   "metadata": {},
   "outputs": [
    {
     "name": "stderr",
     "output_type": "stream",
     "text": [
      "c:\\users\\katha\\appdata\\local\\programs\\python\\python37\\lib\\site-packages\\ipykernel_launcher.py:8: DataConversionWarning: A column-vector y was passed when a 1d array was expected. Please change the shape of y to (n_samples,), for example using ravel().\n",
      "  \n"
     ]
    }
   ],
   "source": [
    "from sklearn.ensemble import RandomForestClassifier\n",
    "from sklearn.metrics import confusion_matrix, accuracy_score\n",
    "\n",
    "# Create an instance of the RandomForestClassifier\n",
    "clf = RandomForestClassifier()\n",
    "\n",
    "# Fit the classifier to the train data\n",
    "clf.fit(scaled_train_data, y_train)\n",
    "\n",
    "# Make predictions on the test data\n",
    "y_pred = clf.predict(scaled_test_data)"
   ]
  },
  {
   "cell_type": "code",
   "execution_count": 73,
   "id": "c639a862",
   "metadata": {},
   "outputs": [
    {
     "name": "stdout",
     "output_type": "stream",
     "text": [
      "[[11011   126]\n",
      " [  695   333]]\n"
     ]
    }
   ],
   "source": [
    "conf_mat = confusion_matrix(y_test, y_pred)\n",
    "print(conf_mat)"
   ]
  },
  {
   "cell_type": "code",
   "execution_count": 74,
   "id": "a9db048b",
   "metadata": {},
   "outputs": [
    {
     "name": "stdout",
     "output_type": "stream",
     "text": [
      "0.9325113029182079\n"
     ]
    }
   ],
   "source": [
    "# Calculate the accuracy\n",
    "acc = accuracy_score(y_test, y_pred)\n",
    "print(acc)"
   ]
  },
  {
   "cell_type": "code",
   "execution_count": 75,
   "id": "19e193e1",
   "metadata": {},
   "outputs": [
    {
     "data": {
      "image/png": "[encoded data removed]",
      "text/plain": [
       "<Figure size 432x288 with 2 Axes>"
      ]
     },
     "metadata": {
      "needs_background": "light"
     },
     "output_type": "display_data"
    }
   ],
   "source": [
    "import seaborn as sns\n",
    "import matplotlib.pyplot as plt\n",
    "\n",
    "# Create a heatmap of the confusion matrix\n",
    "sns.heatmap(conf_mat, annot=True, fmt='d', cmap='Blues')\n",
    "\n",
    "# Add labels for the x and y axis\n",
    "plt.xlabel('Predicted')\n",
    "plt.ylabel('True')\n",
    "\n",
    "# Display the plot\n",
    "plt.show()"
   ]
  },
  {
   "cell_type": "markdown",
   "id": "3fa9c68a",
   "metadata": {},
   "source": [
    "## (b) For data after PCA"
   ]
  },
  {
   "cell_type": "code",
   "execution_count": 86,
   "id": "b5dae973",
   "metadata": {},
   "outputs": [
    {
     "name": "stderr",
     "output_type": "stream",
     "text": [
      "c:\\users\\katha\\appdata\\local\\programs\\python\\python37\\lib\\site-packages\\ipykernel_launcher.py:2: DataConversionWarning: A column-vector y was passed when a 1d array was expected. Please change the shape of y to (n_samples,), for example using ravel().\n",
      "  \n"
     ]
    },
    {
     "name": "stdout",
     "output_type": "stream",
     "text": [
      "Confusion Matrix: \n",
      " [[10725   412]\n",
      " [ 1006    22]]\n",
      "Accuracy:  0.883436087135224\n"
     ]
    }
   ],
   "source": [
    "# Fit the model on the new d-dimensional dataset\n",
    "clf.fit(x_train_pca, y_train)\n",
    "\n",
    "# Predict the class for the test set\n",
    "y_pred1 = clf.predict(x_test_pca)\n",
    "\n",
    "# Record the confusion matrix and accuracy\n",
    "conf_matrix = confusion_matrix(y_test, y_pred1)\n",
    "acc1 = accuracy_score(y_test, y_pred1)\n",
    "print(\"Confusion Matrix: \\n\", conf_matrix)\n",
    "print(\"Accuracy: \", acc1)"
   ]
  },
  {
   "cell_type": "code",
   "execution_count": 87,
   "id": "2380d6ab",
   "metadata": {},
   "outputs": [
    {
     "data": {
      "image/png": "[encoded data removed]",
      "text/plain": [
       "<Figure size 432x288 with 2 Axes>"
      ]
     },
     "metadata": {
      "needs_background": "light"
     },
     "output_type": "display_data"
    }
   ],
   "source": [
    "# Create a heatmap of the confusion matrix\n",
    "sns.heatmap(conf_matrix, annot=True, fmt='d', cmap='Blues')\n",
    "\n",
    "# Add labels for the x and y axis\n",
    "plt.xlabel('Predicted')\n",
    "plt.ylabel('True')\n",
    "\n",
    "# Display the plot\n",
    "plt.show()"
   ]
  },
  {
   "cell_type": "markdown",
   "id": "d06cd100",
   "metadata": {},
   "source": [
    "## (c) Using LDA"
   ]
  },
  {
   "cell_type": "code",
   "execution_count": 89,
   "id": "33d7af4b",
   "metadata": {},
   "outputs": [
    {
     "name": "stderr",
     "output_type": "stream",
     "text": [
      "c:\\users\\katha\\appdata\\local\\programs\\python\\python37\\lib\\site-packages\\ipykernel_launcher.py:2: DataConversionWarning: A column-vector y was passed when a 1d array was expected. Please change the shape of y to (n_samples,), for example using ravel().\n",
      "  \n"
     ]
    },
    {
     "name": "stdout",
     "output_type": "stream",
     "text": [
      "Confusion Matrix: \n",
      " [[10109  1028]\n",
      " [  805   223]]\n",
      "Accuracy:  0.8493218249075216\n"
     ]
    }
   ],
   "source": [
    "# Fit the model on the new d-dimensional dataset\n",
    "clf.fit(x_train_lda, y_train)\n",
    "\n",
    "# Predict the class for the test set\n",
    "y_pred2 = clf.predict(x_test_lda)\n",
    "\n",
    "# Record the confusion matrix and accuracy\n",
    "conf_matrix1 = confusion_matrix(y_test, y_pred2)\n",
    "acc2 = accuracy_score(y_test, y_pred2)\n",
    "print(\"Confusion Matrix: \\n\", conf_matrix1)\n",
    "print(\"Accuracy: \", acc2)"
   ]
  },
  {
   "cell_type": "code",
   "execution_count": 90,
   "id": "517b30f2",
   "metadata": {},
   "outputs": [
    {
     "data": {
      "image/png": "[encoded data removed]",
      "text/plain": [
       "<Figure size 432x288 with 2 Axes>"
      ]
     },
     "metadata": {
      "needs_background": "light"
     },
     "output_type": "display_data"
    }
   ],
   "source": [
    "# Create a heatmap of the confusion matrix\n",
    "sns.heatmap(conf_matrix1, annot=True, fmt='d', cmap='Blues')\n",
    "\n",
    "# Add labels for the x and y axis\n",
    "plt.xlabel('Predicted')\n",
    "plt.ylabel('True')\n",
    "\n",
    "# Display the plot\n",
    "plt.show()"
   ]
  },
  {
   "cell_type": "markdown",
   "id": "e8db20ae",
   "metadata": {},
   "source": [
    "## 2) MLP : Multilayer Perceptron"
   ]
  },
  {
   "cell_type": "markdown",
   "id": "0d710ef8",
   "metadata": {},
   "source": [
    "## (a) Using Main scaled dataset"
   ]
  },
  {
   "cell_type": "code",
   "execution_count": 91,
   "id": "a85b31cc",
   "metadata": {},
   "outputs": [
    {
     "name": "stderr",
     "output_type": "stream",
     "text": [
      "c:\\users\\katha\\appdata\\local\\programs\\python\\python37\\lib\\site-packages\\sklearn\\neural_network\\_multilayer_perceptron.py:1109: DataConversionWarning: A column-vector y was passed when a 1d array was expected. Please change the shape of y to (n_samples, ), for example using ravel().\n",
      "  y = column_or_1d(y, warn=True)\n"
     ]
    },
    {
     "name": "stdout",
     "output_type": "stream",
     "text": [
      "Iteration 1, loss = 0.24952326\n",
      "Iteration 2, loss = 0.23049538\n",
      "Iteration 3, loss = 0.22790244\n",
      "Iteration 4, loss = 0.22670016\n",
      "Iteration 5, loss = 0.22521556\n",
      "Iteration 6, loss = 0.22382713\n",
      "Iteration 7, loss = 0.22239478\n",
      "Iteration 8, loss = 0.22145805\n",
      "Iteration 9, loss = 0.22099333\n",
      "Iteration 10, loss = 0.22007147\n",
      "Accuracy: 0.9251130291820797\n"
     ]
    },
    {
     "name": "stderr",
     "output_type": "stream",
     "text": [
      "c:\\users\\katha\\appdata\\local\\programs\\python\\python37\\lib\\site-packages\\sklearn\\neural_network\\_multilayer_perceptron.py:696: ConvergenceWarning: Stochastic Optimizer: Maximum iterations (10) reached and the optimization hasn't converged yet.\n",
      "  ConvergenceWarning,\n"
     ]
    }
   ],
   "source": [
    "from sklearn.neural_network import MLPClassifier\n",
    "\n",
    "# Create an instance of MLPClassifier\n",
    "mlp = MLPClassifier(hidden_layer_sizes=(50,), max_iter=10, alpha=1e-4,\n",
    "                    solver='sgd', verbose=10, tol=1e-4, random_state=1,\n",
    "                    learning_rate_init=.1)\n",
    "\n",
    "# Fit the model on the training data\n",
    "mlp.fit(scaled_train_data, y_train)\n",
    "\n",
    "# Use the model to predict on the test data\n",
    "y_predN1 = mlp.predict(scaled_test_data)\n",
    "\n",
    "# Evaluate the model's performance\n",
    "print(\"Accuracy:\", accuracy_score(y_test, y_predN1))\n"
   ]
  },
  {
   "cell_type": "code",
   "execution_count": 92,
   "id": "158b9139",
   "metadata": {},
   "outputs": [
    {
     "data": {
      "text/plain": [
       "(12165, 1)"
      ]
     },
     "execution_count": 92,
     "metadata": {},
     "output_type": "execute_result"
    }
   ],
   "source": [
    "y_test.shape"
   ]
  },
  {
   "cell_type": "code",
   "execution_count": 93,
   "id": "5f1f244f",
   "metadata": {},
   "outputs": [
    {
     "name": "stdout",
     "output_type": "stream",
     "text": [
      "Confusion Matrix: \n",
      " [[11071    66]\n",
      " [  845   183]]\n"
     ]
    }
   ],
   "source": [
    "# confusion matrix\n",
    "conf_matrixN1 = confusion_matrix(y_test, y_predN1)\n",
    "print(\"Confusion Matrix: \\n\", conf_matrixN1)"
   ]
  },
  {
   "cell_type": "code",
   "execution_count": 94,
   "id": "95ad2883",
   "metadata": {},
   "outputs": [
    {
     "data": {
      "image/png": "[encoded data removed]",
      "text/plain": [
       "<Figure size 432x288 with 2 Axes>"
      ]
     },
     "metadata": {
      "needs_background": "light"
     },
     "output_type": "display_data"
    }
   ],
   "source": [
    "# Create a heatmap of the confusion matrix\n",
    "sns.heatmap(conf_matrixN1, annot=True, fmt='d', cmap='Blues')\n",
    "\n",
    "# Add labels for the x and y axis\n",
    "plt.xlabel('Predicted')\n",
    "plt.ylabel('True')\n",
    "\n",
    "# Display the plot\n",
    "plt.show()"
   ]
  },
  {
   "cell_type": "markdown",
   "id": "bfc43d61",
   "metadata": {},
   "source": [
    "## (b) data with PCA"
   ]
  },
  {
   "cell_type": "code",
   "execution_count": 96,
   "id": "8f70c7de",
   "metadata": {},
   "outputs": [
    {
     "name": "stderr",
     "output_type": "stream",
     "text": [
      "c:\\users\\katha\\appdata\\local\\programs\\python\\python37\\lib\\site-packages\\sklearn\\neural_network\\_multilayer_perceptron.py:1109: DataConversionWarning: A column-vector y was passed when a 1d array was expected. Please change the shape of y to (n_samples, ), for example using ravel().\n",
      "  y = column_or_1d(y, warn=True)\n"
     ]
    },
    {
     "name": "stdout",
     "output_type": "stream",
     "text": [
      "Iteration 1, loss = 0.25806191\n",
      "Iteration 2, loss = 0.23989299\n",
      "Iteration 3, loss = 0.23878894\n",
      "Iteration 4, loss = 0.23757350\n",
      "Iteration 5, loss = 0.23723527\n",
      "Iteration 6, loss = 0.23687959\n",
      "Iteration 7, loss = 0.23550673\n",
      "Iteration 8, loss = 0.23493013\n",
      "Iteration 9, loss = 0.23417700\n",
      "Iteration 10, loss = 0.23351268\n",
      "Accuracy: 0.8974928072338677\n"
     ]
    },
    {
     "name": "stderr",
     "output_type": "stream",
     "text": [
      "c:\\users\\katha\\appdata\\local\\programs\\python\\python37\\lib\\site-packages\\sklearn\\neural_network\\_multilayer_perceptron.py:696: ConvergenceWarning: Stochastic Optimizer: Maximum iterations (10) reached and the optimization hasn't converged yet.\n",
      "  ConvergenceWarning,\n"
     ]
    }
   ],
   "source": [
    "from sklearn.neural_network import MLPClassifier\n",
    "\n",
    "# Create an instance of MLPClassifier\n",
    "mlp = MLPClassifier(hidden_layer_sizes=(50,), max_iter=10, alpha=1e-4,\n",
    "                    solver='sgd', verbose=10, tol=1e-4, random_state=1,\n",
    "                    learning_rate_init=.1)\n",
    "\n",
    "# Fit the model on the training data\n",
    "mlp.fit(x_train_pca, y_train)\n",
    "\n",
    "# Use the model to predict on the test data\n",
    "y_predN2 = mlp.predict(x_test_pca)\n",
    "\n",
    "# Evaluate the model's performance\n",
    "print(\"Accuracy:\", accuracy_score(y_test, y_predN2))"
   ]
  },
  {
   "cell_type": "code",
   "execution_count": 97,
   "id": "02af15fb",
   "metadata": {},
   "outputs": [
    {
     "name": "stdout",
     "output_type": "stream",
     "text": [
      "Confusion Matrix: \n",
      " [[10903   234]\n",
      " [ 1013    15]]\n"
     ]
    }
   ],
   "source": [
    "# confusion matrix\n",
    "conf_matrixN2 = confusion_matrix(y_test, y_predN2)\n",
    "print(\"Confusion Matrix: \\n\", conf_matrixN2)"
   ]
  },
  {
   "cell_type": "code",
   "execution_count": 98,
   "id": "c9145061",
   "metadata": {},
   "outputs": [
    {
     "data": {
      "image/png": "[encoded data removed]",
      "text/plain": [
       "<Figure size 432x288 with 2 Axes>"
      ]
     },
     "metadata": {
      "needs_background": "light"
     },
     "output_type": "display_data"
    }
   ],
   "source": [
    "# Create a heatmap of the confusion matrix\n",
    "sns.heatmap(conf_matrixN2, annot=True, fmt='d', cmap='Blues')\n",
    "\n",
    "# Add labels for the x and y axis\n",
    "plt.xlabel('Predicted')\n",
    "plt.ylabel('True')\n",
    "\n",
    "# Display the plot\n",
    "plt.show()"
   ]
  },
  {
   "cell_type": "markdown",
   "id": "3ac4ad8b",
   "metadata": {},
   "source": [
    "## (c) data with LDA"
   ]
  },
  {
   "cell_type": "code",
   "execution_count": 99,
   "id": "bc565f9a",
   "metadata": {},
   "outputs": [
    {
     "name": "stderr",
     "output_type": "stream",
     "text": [
      "c:\\users\\katha\\appdata\\local\\programs\\python\\python37\\lib\\site-packages\\sklearn\\neural_network\\_multilayer_perceptron.py:1109: DataConversionWarning: A column-vector y was passed when a 1d array was expected. Please change the shape of y to (n_samples, ), for example using ravel().\n",
      "  y = column_or_1d(y, warn=True)\n"
     ]
    },
    {
     "name": "stdout",
     "output_type": "stream",
     "text": [
      "Iteration 1, loss = 0.25178928\n",
      "Iteration 2, loss = 0.24366914\n",
      "Iteration 3, loss = 0.24354148\n",
      "Iteration 4, loss = 0.24349675\n",
      "Iteration 5, loss = 0.24337362\n",
      "Iteration 6, loss = 0.24333277\n",
      "Iteration 7, loss = 0.24343284\n",
      "Iteration 8, loss = 0.24322407\n",
      "Iteration 9, loss = 0.24314345\n",
      "Iteration 10, loss = 0.24325744\n",
      "Accuracy: 0.9149198520345253\n"
     ]
    },
    {
     "name": "stderr",
     "output_type": "stream",
     "text": [
      "c:\\users\\katha\\appdata\\local\\programs\\python\\python37\\lib\\site-packages\\sklearn\\neural_network\\_multilayer_perceptron.py:696: ConvergenceWarning: Stochastic Optimizer: Maximum iterations (10) reached and the optimization hasn't converged yet.\n",
      "  ConvergenceWarning,\n"
     ]
    }
   ],
   "source": [
    "from sklearn.neural_network import MLPClassifier\n",
    "\n",
    "# Create an instance of MLPClassifier\n",
    "mlp = MLPClassifier(hidden_layer_sizes=(50,), max_iter=10, alpha=1e-4,\n",
    "                    solver='sgd', verbose=10, tol=1e-4, random_state=1,\n",
    "                    learning_rate_init=.1)\n",
    "\n",
    "# Fit the model on the training data\n",
    "mlp.fit(x_train_lda, y_train)\n",
    "\n",
    "# Use the model to predict on the test data\n",
    "y_predN3 = mlp.predict(x_test_lda)\n",
    "\n",
    "# Evaluate the model's performance\n",
    "print(\"Accuracy:\", accuracy_score(y_test, y_predN3))"
   ]
  },
  {
   "cell_type": "code",
   "execution_count": 100,
   "id": "be9e1f11",
   "metadata": {},
   "outputs": [
    {
     "name": "stdout",
     "output_type": "stream",
     "text": [
      "Confusion Matrix: \n",
      " [[11061    76]\n",
      " [  959    69]]\n"
     ]
    }
   ],
   "source": [
    "# confusion matrix\n",
    "conf_matrixN3 = confusion_matrix(y_test, y_predN3)\n",
    "print(\"Confusion Matrix: \\n\", conf_matrixN3)"
   ]
  },
  {
   "cell_type": "code",
   "execution_count": 101,
   "id": "fa849531",
   "metadata": {},
   "outputs": [
    {
     "data": {
      "image/png": "[encoded data removed]",
      "text/plain": [
       "<Figure size 432x288 with 2 Axes>"
      ]
     },
     "metadata": {
      "needs_background": "light"
     },
     "output_type": "display_data"
    }
   ],
   "source": [
    "# Create a heatmap of the confusion matrix\n",
    "sns.heatmap(conf_matrixN3, annot=True, fmt='d', cmap='Blues')\n",
    "\n",
    "# Add labels for the x and y axis\n",
    "plt.xlabel('Predicted')\n",
    "plt.ylabel('True')\n",
    "\n",
    "# Display the plot\n",
    "plt.show()"
   ]
  },
  {
   "cell_type": "code",
   "execution_count": null,
   "id": "71470c46",
   "metadata": {},
   "outputs": [],
   "source": []
  }
 ],
 "metadata": {
  "kernelspec": {
   "display_name": "Python 3 (ipykernel)",
   "language": "python",
   "name": "python3"
  },
  "language_info": {
   "codemirror_mode": {
    "name": "ipython",
    "version": 3
   },
   "file_extension": ".py",
   "mimetype": "text/x-python",
   "name": "python",
   "nbconvert_exporter": "python",
   "pygments_lexer": "ipython3",
   "version": "3.11.4"
  }
 },
 "nbformat": 4,
 "nbformat_minor": 5
}
